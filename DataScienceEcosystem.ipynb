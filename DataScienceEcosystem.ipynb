{
 "cells": [
  {
   "cell_type": "markdown",
   "id": "40c1184f-8e4d-4b92-8607-92f75c6b9fcf",
   "metadata": {},
   "source": [
    "# Data Science Tools and Ecosystem"
   ]
  },
  {
   "cell_type": "markdown",
   "id": "34dc296b-1860-43c0-bdfc-297786411f24",
   "metadata": {},
   "source": [
    "In this notebook, Data Science tools are shown through some exercises."
   ]
  },
  {
   "cell_type": "markdown",
   "id": "ecd203df-33c3-4ebf-b324-e700c9e0fcd8",
   "metadata": {},
   "source": [
    "**Objectives:**\n",
    "- List of common languages\n",
    "- List of common libraries\n",
    "- Table of tools\n",
    "- Evaluating arithmetic expressions"
   ]
  },
  {
   "cell_type": "markdown",
   "id": "e51d41ae-8988-4037-9716-13b3e3d9cece",
   "metadata": {},
   "source": [
    "Some of the commonly used languages for Data Science are:\n",
    "1. Python\n",
    "2. R\n",
    "3. C++"
   ]
  },
  {
   "cell_type": "markdown",
   "id": "d1bc8236-be35-4ca6-acc2-39c8cc741fc5",
   "metadata": {},
   "source": [
    "These are some of the commonly used libraries for Data Science:\n",
    "1. Pandas\n",
    "2. Numpy\n",
    "3. Tensorflow"
   ]
  },
  {
   "cell_type": "markdown",
   "id": "107a0e93-7ec1-4f99-bfec-974d388436a3",
   "metadata": {},
   "source": [
    "|Data Science Tools|\n",
    "|-------|\n",
    "|R Studio|\n",
    "|Jupyter Notebook|\n",
    "|Apache Spark|"
   ]
  },
  {
   "cell_type": "markdown",
   "id": "4e9a6d31-ef97-4483-9bbd-76ae9b76dcc5",
   "metadata": {},
   "source": [
    "### Examples of evaluating arithmetic expressions\r\n"
   ]
  },
  {
   "cell_type": "code",
   "execution_count": 20,
   "id": "7dfc4e4e-372d-46b9-bd9b-b2205925abc2",
   "metadata": {},
   "outputs": [
    {
     "data": {
      "text/plain": [
       "17"
      ]
     },
     "execution_count": 20,
     "metadata": {},
     "output_type": "execute_result"
    }
   ],
   "source": [
    "#This an arithmetic expression to multiply and add integers\n",
    "(3*4)+5"
   ]
  },
  {
   "cell_type": "code",
   "execution_count": 22,
   "id": "77d19965-46bf-483b-92eb-5d1903ab25a4",
   "metadata": {},
   "outputs": [
    {
     "data": {
      "text/plain": [
       "3.3333333333333335"
      ]
     },
     "execution_count": 22,
     "metadata": {},
     "output_type": "execute_result"
    }
   ],
   "source": [
    "#We will divide 200 minutes by 60 to convert them to hours\n",
    "200/60"
   ]
  },
  {
   "cell_type": "markdown",
   "id": "58d80467-758e-493d-843f-fc36cd210a00",
   "metadata": {},
   "source": [
    "## Author"
   ]
  },
  {
   "cell_type": "markdown",
   "id": "023b2e26-bce8-4f83-9fb5-072543489074",
   "metadata": {},
   "source": [
    "Daniela Anaya León"
   ]
  },
  {
   "cell_type": "code",
   "execution_count": null,
   "id": "4ca1eb1a-fa2e-40b3-9920-3e7bb7b71acd",
   "metadata": {},
   "outputs": [],
   "source": []
  }
 ],
 "metadata": {
  "kernelspec": {
   "display_name": "anaconda-2024.02-py310",
   "language": "python",
   "name": "conda-env-anaconda-2024.02-py310-py"
  },
  "language_info": {
   "codemirror_mode": {
    "name": "ipython",
    "version": 3
   },
   "file_extension": ".py",
   "mimetype": "text/x-python",
   "name": "python",
   "nbconvert_exporter": "python",
   "pygments_lexer": "ipython3",
   "version": "3.10.14"
  }
 },
 "nbformat": 4,
 "nbformat_minor": 5
}
